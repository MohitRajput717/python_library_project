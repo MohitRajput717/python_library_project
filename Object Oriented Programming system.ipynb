{
 "cells": [
  {
   "cell_type": "markdown",
   "id": "d78617b8",
   "metadata": {},
   "source": [
    "### oops concept"
   ]
  },
  {
   "cell_type": "code",
   "execution_count": 1,
   "id": "93c1c847",
   "metadata": {},
   "outputs": [],
   "source": [
    "class bonousclaculator:\n",
    "    def __init__(self, empid , emprating) :\n",
    "        self.empid = empid\n",
    "        self.emprating = emprating\n",
    "        self._empmail = \"fdsfsfssf@gmail.com\"\n",
    "        self.__bonusforratingA = \"70%\"\n",
    "        self.__bonusforraringB = \"60%\"\n",
    "        self.__bonusforratinC = \"40%\"\n",
    "    \n",
    "    def bonuscalculator(self) :\n",
    "        if self.emprating == \"A\":\n",
    "            bonus = self.__bonusforratingA\n",
    "            return bonus\n",
    "        elif self.emprating == \"B\" :\n",
    "            bonus = self.__bonusforraringB\n",
    "            return bonus\n",
    "        else :\n",
    "            bonus = self.__bonusforratinC\n",
    "            return bonus"
   ]
  },
  {
   "cell_type": "code",
   "execution_count": 2,
   "id": "cce8e62a",
   "metadata": {},
   "outputs": [],
   "source": [
    "emp1 = bonousclaculator(101 , \"A\")\n",
    "emp2 = bonousclaculator(102 , \"B\")\n",
    "emp3 = bonousclaculator(103, \"C\")"
   ]
  },
  {
   "cell_type": "code",
   "execution_count": 3,
   "id": "d1e5f068",
   "metadata": {},
   "outputs": [
    {
     "data": {
      "text/plain": [
       "'70%'"
      ]
     },
     "execution_count": 3,
     "metadata": {},
     "output_type": "execute_result"
    }
   ],
   "source": [
    "emp1.bonuscalculator()"
   ]
  },
  {
   "cell_type": "code",
   "execution_count": 5,
   "id": "920e2481",
   "metadata": {},
   "outputs": [
    {
     "data": {
      "text/plain": [
       "'60%'"
      ]
     },
     "execution_count": 5,
     "metadata": {},
     "output_type": "execute_result"
    }
   ],
   "source": [
    "emp2.bonuscalculator()"
   ]
  },
  {
   "cell_type": "code",
   "execution_count": 6,
   "id": "743a13b0",
   "metadata": {},
   "outputs": [
    {
     "data": {
      "text/plain": [
       "'40%'"
      ]
     },
     "execution_count": 6,
     "metadata": {},
     "output_type": "execute_result"
    }
   ],
   "source": [
    "emp3.bonuscalculator()"
   ]
  },
  {
   "cell_type": "code",
   "execution_count": 7,
   "id": "5901cd10",
   "metadata": {},
   "outputs": [],
   "source": [
    "class Car:\n",
    "    def __init__(self, make, model):\n",
    "        self.make = make\n",
    "        self.model = model\n",
    "\n",
    "    def start_engine(self):\n",
    "        print(\"Engine started\")"
   ]
  },
  {
   "cell_type": "code",
   "execution_count": 8,
   "id": "ef2f594b",
   "metadata": {},
   "outputs": [],
   "source": [
    "car1 = Car(\"Toyota\", \"Corolla\")\n",
    "car2 = Car(\"Ford\", \"Mustang\")"
   ]
  },
  {
   "cell_type": "code",
   "execution_count": 9,
   "id": "84ac4652",
   "metadata": {},
   "outputs": [
    {
     "data": {
      "text/plain": [
       "'Toyota'"
      ]
     },
     "execution_count": 9,
     "metadata": {},
     "output_type": "execute_result"
    }
   ],
   "source": [
    "car1.make"
   ]
  },
  {
   "cell_type": "code",
   "execution_count": 10,
   "id": "887dde2f",
   "metadata": {},
   "outputs": [
    {
     "data": {
      "text/plain": [
       "'Corolla'"
      ]
     },
     "execution_count": 10,
     "metadata": {},
     "output_type": "execute_result"
    }
   ],
   "source": [
    "car1.model"
   ]
  },
  {
   "cell_type": "code",
   "execution_count": 11,
   "id": "f6049720",
   "metadata": {},
   "outputs": [
    {
     "name": "stdout",
     "output_type": "stream",
     "text": [
      "Engine started\n"
     ]
    }
   ],
   "source": [
    "car2.start_engine()"
   ]
  },
  {
   "cell_type": "code",
   "execution_count": 13,
   "id": "d45fba56",
   "metadata": {},
   "outputs": [
    {
     "name": "stdout",
     "output_type": "stream",
     "text": [
      "enter first number 58\n",
      "enter second number 12\n",
      "4.833333333333333\n"
     ]
    }
   ],
   "source": [
    "class division_by_5 (Exception):\n",
    "    def __init__ (self,msg):\n",
    "        self.msg = msg\n",
    "try:\n",
    "    a= int(input(\"enter first number \"))\n",
    "    b= int(input(\"enter second number \"))\n",
    "    a/b\n",
    "    if b == 5:\n",
    "        raise division_by_5(\"division by 5 error\")\n",
    "except ValueError as msg:\n",
    "        print(msg)\n",
    "except ZeroDivisionError as msg:\n",
    "        print(msg)\n",
    "except division_by_5 as msg:\n",
    "         print(msg)\n",
    "else:\n",
    "    try :\n",
    "        \n",
    "        result = a/b\n",
    "        print(result)\n",
    "        \n",
    "    except Exception as e :\n",
    "        print(e)"
   ]
  },
  {
   "cell_type": "code",
   "execution_count": 14,
   "id": "9dc6e3c6",
   "metadata": {},
   "outputs": [
    {
     "name": "stdout",
     "output_type": "stream",
     "text": [
      "Enter an integermohit\n",
      "Please enter a valid input, an integer\n",
      "Enter an integersohan\n",
      "Please enter a valid input, an integer\n",
      "Enter an integer'2'\n",
      "Please enter a valid input, an integer\n",
      "Enter an integer\"45685\"\n",
      "Please enter a valid input, an integer\n",
      "Enter an integer78\n",
      "Please enter a valid input, an integer\n",
      "Enter an integer4\n",
      "Please enter a valid input, an integer\n",
      "Enter an integer1\n",
      "Please enter a number >1\n",
      "Enter an integer2\n"
     ]
    }
   ],
   "source": [
    "def checkPrime():\n",
    "    ''' Checks if a number is Prime. Keeps on asking\n",
    "        for an input in correct form, >1 & an integer\n",
    "        '''\n",
    "    while True:\n",
    "        try:\n",
    "            num=int(input('Enter an integer'))\n",
    "            if num>1:\n",
    "                for i in range(2, num):\n",
    "                    \n",
    "                    if (num % i)==0:\n",
    "                        pss\n",
    "                        #print(num, ' is a not prime number')\n",
    "                        #break\n",
    "                \n",
    "                    else:\n",
    "                        print(num, ' is a prime number')\n",
    "                        break\n",
    "                        \n",
    "                break       \n",
    "                        \n",
    "                \n",
    "            else:\n",
    "                print('Please enter a number >1')\n",
    "        except:\n",
    "            print('Please enter a valid input, an integer')\n",
    "checkPrime()\n"
   ]
  },
  {
   "cell_type": "code",
   "execution_count": null,
   "id": "a81ecc48",
   "metadata": {},
   "outputs": [],
   "source": []
  }
 ],
 "metadata": {
  "kernelspec": {
   "display_name": "Python 3 (ipykernel)",
   "language": "python",
   "name": "python3"
  },
  "language_info": {
   "codemirror_mode": {
    "name": "ipython",
    "version": 3
   },
   "file_extension": ".py",
   "mimetype": "text/x-python",
   "name": "python",
   "nbconvert_exporter": "python",
   "pygments_lexer": "ipython3",
   "version": "3.10.9"
  },
  "varInspector": {
   "cols": {
    "lenName": 16,
    "lenType": 16,
    "lenVar": 40
   },
   "kernels_config": {
    "python": {
     "delete_cmd_postfix": "",
     "delete_cmd_prefix": "del ",
     "library": "var_list.py",
     "varRefreshCmd": "print(var_dic_list())"
    },
    "r": {
     "delete_cmd_postfix": ") ",
     "delete_cmd_prefix": "rm(",
     "library": "var_list.r",
     "varRefreshCmd": "cat(var_dic_list()) "
    }
   },
   "types_to_exclude": [
    "module",
    "function",
    "builtin_function_or_method",
    "instance",
    "_Feature"
   ],
   "window_display": false
  }
 },
 "nbformat": 4,
 "nbformat_minor": 5
}
