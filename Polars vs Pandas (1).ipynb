{
 "cells": [
  {
   "cell_type": "code",
   "execution_count": 1,
   "id": "bf4b91b0",
   "metadata": {},
   "outputs": [],
   "source": [
    "import polars as pl\n",
    "import pandas as pd\n",
    "import datetime"
   ]
  },
  {
   "cell_type": "code",
   "execution_count": 7,
   "id": "212ffd2d",
   "metadata": {},
   "outputs": [
    {
     "name": "stdout",
     "output_type": "stream",
     "text": [
      "time taken to execute and fetch :  0:00:00.831642\n"
     ]
    }
   ],
   "source": [
    "#### Polars read data ###########\n",
    "\n",
    "d1 = datetime.datetime.now()\n",
    "df = pl.read_csv('big_data2.csv')\n",
    "d2 = datetime.datetime.now()\n",
    "print('time taken to execute and fetch : ', d2 - d1)\n"
   ]
  },
  {
   "cell_type": "code",
   "execution_count": 13,
   "id": "2f336a1f",
   "metadata": {},
   "outputs": [
    {
     "name": "stdout",
     "output_type": "stream",
     "text": [
      "time taken to execute and fetch :  0:00:05.923298\n"
     ]
    }
   ],
   "source": [
    "############# Pandas read data ############\n",
    "\n",
    "d1 = datetime.datetime.now()\n",
    "df1 = pd.read_csv('big_data2.csv')\n",
    "d2 = datetime.datetime.now()\n",
    "print('time taken to execute and fetch : ', d2 - d1)\n"
   ]
  },
  {
   "cell_type": "code",
   "execution_count": 20,
   "id": "fcca7ed5",
   "metadata": {},
   "outputs": [
    {
     "name": "stdout",
     "output_type": "stream",
     "text": [
      "time taken to execute and fetch :  0:00:14.836059\n"
     ]
    }
   ],
   "source": [
    "############ Pandas pivot table ##############\n",
    "d1 = datetime.datetime.now()\n",
    "pivot=df1.pivot_table(index=['date', 'S_Name', 'S_Code',\n",
    "       'P_type', 'd', 'd_gion', 'Zone', 'City',\n",
    "       'De_y', 'Dtate', 'Pincode'],values=['Total Volume','correct Volume'],aggfunc=sum,fill_value=0,margins=True)\n",
    "pivot\n",
    "d2 = datetime.datetime.now()\n",
    "print('time taken to execute and fetch : ', d2 - d1)\n",
    "\n"
   ]
  },
  {
   "cell_type": "code",
   "execution_count": 25,
   "id": "5a20634e",
   "metadata": {},
   "outputs": [
    {
     "name": "stdout",
     "output_type": "stream",
     "text": [
      "Time taken to execute and fetch: 0:00:03.403725\n"
     ]
    }
   ],
   "source": [
    "import polars as pl\n",
    "import datetime\n",
    "\n",
    "\n",
    "d1 = datetime.datetime.now()\n",
    "\n",
    "\n",
    "pivot = df.groupby(['date', 'S_Name', 'S_Code',\n",
    "       'P_type', 'd', 'd_gion', 'Zone', 'City',\n",
    "       'De_y', 'Dtate', 'Pincode']).agg(\n",
    "       {'Total Volume': 'sum', 'correct Volume': 'sum'}\n",
    ")\n",
    "\n",
    "\n",
    "d2 = datetime.datetime.now()\n",
    "\n",
    "elapsed_time = d2 - d1\n",
    "\n",
    "print('Time taken to execute and fetch:', elapsed_time)\n"
   ]
  },
  {
   "cell_type": "code",
   "execution_count": null,
   "id": "e6e0353b",
   "metadata": {},
   "outputs": [],
   "source": []
  }
 ],
 "metadata": {
  "kernelspec": {
   "display_name": "Python 3 (ipykernel)",
   "language": "python",
   "name": "python3"
  },
  "language_info": {
   "codemirror_mode": {
    "name": "ipython",
    "version": 3
   },
   "file_extension": ".py",
   "mimetype": "text/x-python",
   "name": "python",
   "nbconvert_exporter": "python",
   "pygments_lexer": "ipython3",
   "version": "3.9.6"
  }
 },
 "nbformat": 4,
 "nbformat_minor": 5
}
