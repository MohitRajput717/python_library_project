{
 "cells": [
  {
   "cell_type": "code",
   "execution_count": 3,
   "id": "9ce0626e",
   "metadata": {},
   "outputs": [],
   "source": [
    "import win32com.client\n",
    "import datetime\n",
    "from datetime import date\n",
    "from datetime import datetime, timedelta"
   ]
  },
  {
   "cell_type": "code",
   "execution_count": 4,
   "id": "04becd32",
   "metadata": {},
   "outputs": [],
   "source": [
    "prev_dt = str(date.today() - timedelta(1))\n",
    "Current_dt = str(date.today())\n",
    "last_dt = str(date.today() - timedelta(2))"
   ]
  },
  {
   "cell_type": "code",
   "execution_count": 5,
   "id": "3279a75c",
   "metadata": {},
   "outputs": [
    {
     "data": {
      "text/plain": [
       "'2023-08-24'"
      ]
     },
     "execution_count": 5,
     "metadata": {},
     "output_type": "execute_result"
    }
   ],
   "source": [
    "prev_dt"
   ]
  },
  {
   "cell_type": "code",
   "execution_count": 6,
   "id": "ad3c595c",
   "metadata": {},
   "outputs": [
    {
     "data": {
      "text/plain": [
       "'2023-08-25'"
      ]
     },
     "execution_count": 6,
     "metadata": {},
     "output_type": "execute_result"
    }
   ],
   "source": [
    "Current_dt"
   ]
  },
  {
   "cell_type": "code",
   "execution_count": 7,
   "id": "e7da5d56",
   "metadata": {},
   "outputs": [
    {
     "data": {
      "text/plain": [
       "'2023-08-23'"
      ]
     },
     "execution_count": 7,
     "metadata": {},
     "output_type": "execute_result"
    }
   ],
   "source": [
    "last_dt"
   ]
  },
  {
   "cell_type": "code",
   "execution_count": 9,
   "id": "db32dcd9",
   "metadata": {},
   "outputs": [],
   "source": [
    "outlook = win32com.client.Dispatch('outlook.application')"
   ]
  },
  {
   "cell_type": "code",
   "execution_count": null,
   "id": "530026d0",
   "metadata": {},
   "outputs": [],
   "source": [
    "mail = outlook.CreateItem(0)"
   ]
  },
  {
   "cell_type": "code",
   "execution_count": null,
   "id": "c01e7549",
   "metadata": {},
   "outputs": [],
   "source": [
    "mail.To = 'mohit.singh@outlook.in'\n",
    "mail.Cc = 'rohit.singh@outlook.in'"
   ]
  },
  {
   "cell_type": "code",
   "execution_count": null,
   "id": "d2e24927",
   "metadata": {},
   "outputs": [],
   "source": [
    "mail.subject = 'test_mail'"
   ]
  },
  {
   "cell_type": "code",
   "execution_count": null,
   "id": "25684af8",
   "metadata": {},
   "outputs": [],
   "source": [
    "mail.attachment.add('d:\\\\test.csv')"
   ]
  },
  {
   "cell_type": "code",
   "execution_count": null,
   "id": "6e1a334e",
   "metadata": {},
   "outputs": [],
   "source": [
    "mail.body = 'this is test mail'"
   ]
  },
  {
   "cell_type": "code",
   "execution_count": null,
   "id": "4adea90c",
   "metadata": {},
   "outputs": [],
   "source": [
    "mail.HTMLBody = ('<html>body>'+'hi team,'+'<br>''<br>'+'please find test mail detail'+'<br>''<br>'+'regard'+'</body></html>')"
   ]
  }
 ],
 "metadata": {
  "kernelspec": {
   "display_name": "Python 3 (ipykernel)",
   "language": "python",
   "name": "python3"
  },
  "language_info": {
   "codemirror_mode": {
    "name": "ipython",
    "version": 3
   },
   "file_extension": ".py",
   "mimetype": "text/x-python",
   "name": "python",
   "nbconvert_exporter": "python",
   "pygments_lexer": "ipython3",
   "version": "3.10.9"
  },
  "varInspector": {
   "cols": {
    "lenName": 16,
    "lenType": 16,
    "lenVar": 40
   },
   "kernels_config": {
    "python": {
     "delete_cmd_postfix": "",
     "delete_cmd_prefix": "del ",
     "library": "var_list.py",
     "varRefreshCmd": "print(var_dic_list())"
    },
    "r": {
     "delete_cmd_postfix": ") ",
     "delete_cmd_prefix": "rm(",
     "library": "var_list.r",
     "varRefreshCmd": "cat(var_dic_list()) "
    }
   },
   "types_to_exclude": [
    "module",
    "function",
    "builtin_function_or_method",
    "instance",
    "_Feature"
   ],
   "window_display": false
  }
 },
 "nbformat": 4,
 "nbformat_minor": 5
}
