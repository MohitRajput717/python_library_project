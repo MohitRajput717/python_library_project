{
 "cells": [
  {
   "cell_type": "code",
   "execution_count": null,
   "id": "156bdbf0",
   "metadata": {},
   "outputs": [],
   "source": [
    "import boto3\n",
    "import pandas as pd\n",
    "import datetime\n",
    "import io"
   ]
  },
  {
   "cell_type": "code",
   "execution_count": null,
   "id": "84effe19",
   "metadata": {},
   "outputs": [],
   "source": [
    "Report_date =datetime.datetime.today()- datetime.timedelta(days =1)\n",
    "Report_date1 = Report_date - datetime.timedelta(days =7)\n",
    "print(Report_date)\n",
    "print(Report_date1)"
   ]
  },
  {
   "cell_type": "code",
   "execution_count": null,
   "id": "0c082627",
   "metadata": {},
   "outputs": [],
   "source": [
    "s3 = boto3.client('s3')"
   ]
  },
  {
   "cell_type": "code",
   "execution_count": null,
   "id": "e3d2e539",
   "metadata": {},
   "outputs": [],
   "source": [
    "s3c = boto3.client(\n",
    "       service_name='s3',\n",
    "        region_name ='ap-south-1',\n",
    "        aws_access_key_id ='key1',\n",
    "        aws_secret_access_key ='secret_key1'\n",
    "    )\n"
   ]
  },
  {
   "cell_type": "code",
   "execution_count": null,
   "id": "f3950140",
   "metadata": {},
   "outputs": [],
   "source": [
    "for bucket in s3.buckets.all():\n",
    "    print(bucket.name)\n"
   ]
  },
  {
   "cell_type": "code",
   "execution_count": null,
   "id": "6f886c7a",
   "metadata": {},
   "outputs": [],
   "source": [
    "for bucket in s3.buckets.all():\n",
    "    bucket_name = bucket.name\n",
    "    # Define the key name you want to associate with each bucket\n",
    "    key_name = f\"{bucket_name}_key\"\n",
    "    print(f\"Bucket: {bucket_name}, Key Name: {key_name}\")"
   ]
  },
  {
   "cell_type": "code",
   "execution_count": null,
   "id": "b145978c",
   "metadata": {},
   "outputs": [],
   "source": [
    "obj = s3c.get_object(Bucket= 'bucket1' , Key = 'key1/'+Report_date.strftime('%Y-%m-%d')+'.csv')\n",
    "df = pd.read_csv(io.BytesIO(obj['Body'].read()), encoding='utf8')\n",
    "df.head()"
   ]
  },
  {
   "cell_type": "code",
   "execution_count": null,
   "id": "d842ed65",
   "metadata": {},
   "outputs": [],
   "source": [
    "df.columns"
   ]
  },
  {
   "cell_type": "code",
   "execution_count": null,
   "id": "6e0ad93c",
   "metadata": {},
   "outputs": [],
   "source": []
  },
  {
   "cell_type": "code",
   "execution_count": null,
   "id": "41f61588",
   "metadata": {},
   "outputs": [],
   "source": []
  },
  {
   "cell_type": "code",
   "execution_count": null,
   "id": "53c664f4",
   "metadata": {},
   "outputs": [],
   "source": []
  }
 ],
 "metadata": {
  "kernelspec": {
   "display_name": "Python 3 (ipykernel)",
   "language": "python",
   "name": "python3"
  },
  "language_info": {
   "codemirror_mode": {
    "name": "ipython",
    "version": 3
   },
   "file_extension": ".py",
   "mimetype": "text/x-python",
   "name": "python",
   "nbconvert_exporter": "python",
   "pygments_lexer": "ipython3",
   "version": "3.9.6"
  }
 },
 "nbformat": 4,
 "nbformat_minor": 5
}
