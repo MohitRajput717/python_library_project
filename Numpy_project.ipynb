{
 "cells": [
  {
   "cell_type": "code",
   "execution_count": 1,
   "id": "5e28d0e5",
   "metadata": {},
   "outputs": [],
   "source": [
    "import numpy as np\n"
   ]
  },
  {
   "cell_type": "code",
   "execution_count": 6,
   "id": "f5d1fba0",
   "metadata": {},
   "outputs": [],
   "source": [
    "# Generate synthetic student data\n",
    "np.random.seed(42)  # For reproducibility"
   ]
  },
  {
   "cell_type": "code",
   "execution_count": 7,
   "id": "1a71eae4",
   "metadata": {},
   "outputs": [],
   "source": [
    "num_students = 100"
   ]
  },
  {
   "cell_type": "code",
   "execution_count": 11,
   "id": "bf80bc8f",
   "metadata": {},
   "outputs": [
    {
     "data": {
      "text/plain": [
       "array([77, 74, 88, 82, 50, 76, 62, 90, 52, 88, 55, 57, 76, 58, 86, 82, 91,\n",
       "       93, 73, 64, 81, 81, 73, 90, 98, 98, 61, 88, 51, 52, 98, 86, 98, 66,\n",
       "       98, 51, 51, 77, 72, 86, 81, 82, 50, 68, 51, 93, 75, 81, 55, 81, 53,\n",
       "       60, 66, 87, 73, 54, 83, 55, 71, 60, 97, 65, 82, 58, 55, 65, 78, 52,\n",
       "       69, 85, 68, 75, 52, 68, 69, 81, 56, 90, 82, 89, 88, 67, 89, 50, 60,\n",
       "       77, 74, 99, 72, 80, 79, 91, 84, 56, 65, 75, 97, 98, 51, 50])"
      ]
     },
     "execution_count": 11,
     "metadata": {},
     "output_type": "execute_result"
    }
   ],
   "source": [
    "grades = np.random.randint(50, 100, num_students)\n",
    "grades"
   ]
  },
  {
   "cell_type": "code",
   "execution_count": 9,
   "id": "057b639d",
   "metadata": {},
   "outputs": [],
   "source": [
    "attendance = np.random.randint(0, 2, num_students)  # 0 for absent, 1 for present"
   ]
  },
  {
   "cell_type": "code",
   "execution_count": 10,
   "id": "4b0615ab",
   "metadata": {},
   "outputs": [
    {
     "data": {
      "text/plain": [
       "array([0, 1, 0, 1, 1, 1, 0, 0, 0, 0, 1, 0, 0, 0, 0, 0, 1, 0, 1, 0, 1, 0,\n",
       "       0, 1, 1, 1, 0, 1, 0, 0, 1, 1, 0, 0, 1, 1, 1, 0, 0, 0, 0, 0, 0, 1,\n",
       "       0, 0, 0, 1, 0, 0, 1, 0, 0, 0, 0, 0, 1, 1, 1, 0, 0, 0, 1, 0, 0, 1,\n",
       "       0, 1, 1, 1, 0, 0, 0, 0, 0, 0, 0, 1, 0, 1, 0, 0, 0, 1, 1, 1, 1, 0,\n",
       "       1, 0, 0, 1, 1, 1, 1, 1, 1, 1, 1, 0])"
      ]
     },
     "execution_count": 10,
     "metadata": {},
     "output_type": "execute_result"
    }
   ],
   "source": [
    "attendance"
   ]
  },
  {
   "cell_type": "code",
   "execution_count": 12,
   "id": "5e103ce7",
   "metadata": {},
   "outputs": [],
   "source": [
    "# Calculate statistics\n",
    "average_grade = np.mean(grades)\n",
    "average_grade\n",
    "max_grade = np.max(grades)\n",
    "min_grade = np.min(grades)\n",
    "pass_rate = np.mean(grades >= 60) * 100"
   ]
  },
  {
   "cell_type": "code",
   "execution_count": 4,
   "id": "083d2bbb",
   "metadata": {},
   "outputs": [],
   "source": [
    "# Filter data\n",
    "attendance_threshold = 0.8\n",
    "attendance_above_threshold = grades[attendance >= attendance_threshold]"
   ]
  },
  {
   "cell_type": "code",
   "execution_count": 5,
   "id": "96119d6c",
   "metadata": {},
   "outputs": [
    {
     "name": "stdout",
     "output_type": "stream",
     "text": [
      "Average Grade: 74.07\n",
      "Max Grade: 99\n",
      "Min Grade: 50\n",
      "Pass Rate: 80.0 %\n",
      "Number of Students with Good Attendance: 43\n"
     ]
    }
   ],
   "source": [
    "# Print statistics\n",
    "print(\"Average Grade:\", average_grade)\n",
    "print(\"Max Grade:\", max_grade)\n",
    "print(\"Min Grade:\", min_grade)\n",
    "print(\"Pass Rate:\", pass_rate, \"%\")\n",
    "print(\"Number of Students with Good Attendance:\", len(attendance_above_threshold))"
   ]
  },
  {
   "cell_type": "code",
   "execution_count": null,
   "id": "3feaeb86",
   "metadata": {},
   "outputs": [],
   "source": []
  }
 ],
 "metadata": {
  "kernelspec": {
   "display_name": "Python 3 (ipykernel)",
   "language": "python",
   "name": "python3"
  },
  "language_info": {
   "codemirror_mode": {
    "name": "ipython",
    "version": 3
   },
   "file_extension": ".py",
   "mimetype": "text/x-python",
   "name": "python",
   "nbconvert_exporter": "python",
   "pygments_lexer": "ipython3",
   "version": "3.10.9"
  },
  "varInspector": {
   "cols": {
    "lenName": 16,
    "lenType": 16,
    "lenVar": 40
   },
   "kernels_config": {
    "python": {
     "delete_cmd_postfix": "",
     "delete_cmd_prefix": "del ",
     "library": "var_list.py",
     "varRefreshCmd": "print(var_dic_list())"
    },
    "r": {
     "delete_cmd_postfix": ") ",
     "delete_cmd_prefix": "rm(",
     "library": "var_list.r",
     "varRefreshCmd": "cat(var_dic_list()) "
    }
   },
   "types_to_exclude": [
    "module",
    "function",
    "builtin_function_or_method",
    "instance",
    "_Feature"
   ],
   "window_display": false
  }
 },
 "nbformat": 4,
 "nbformat_minor": 5
}
