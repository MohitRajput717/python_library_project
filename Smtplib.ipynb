{
 "cells": [
  {
   "cell_type": "code",
   "execution_count": 1,
   "id": "4f360d8e",
   "metadata": {},
   "outputs": [],
   "source": [
    "import smtplib\n",
    "from email.mime.multipart import MIMEMultipart\n",
    "from email.mime.text import MIMEText\n",
    "from email.mime.base import MIMEBase\n",
    "from email import encoders\n"
   ]
  },
  {
   "cell_type": "code",
   "execution_count": 2,
   "id": "cffb8b1d",
   "metadata": {},
   "outputs": [],
   "source": [
    "fromaddr = \"Mohit.singh@outlook.in\"\n",
    "toaddr = \"Rohit.singh@outlook.in\"\n",
    "Ccaddr = \"ravishankar@outlook.in\"\n"
   ]
  },
  {
   "cell_type": "code",
   "execution_count": 3,
   "id": "36d429cb",
   "metadata": {},
   "outputs": [],
   "source": [
    "msg = MIMEMultipart()\n",
    "msg['From'] = fromaddr\n",
    "msg['To'] = toaddr\n",
    "msg['Cc'] = Ccaddr\n",
    "msg['Subject'] = \"test mail\""
   ]
  },
  {
   "cell_type": "code",
   "execution_count": null,
   "id": "6e0f9c0b",
   "metadata": {},
   "outputs": [],
   "source": [
    "filename = \"test.csv\"\n",
    "attachment = open('test.csv', \"rb\")\n",
    "  \n",
    "# instance of MIMEBase and named as p\n",
    "p = MIMEBase('application', 'octet-stream')\n",
    "  \n",
    "# To change the payload into encoded form\n",
    "p.set_payload((attachment).read())\n",
    "  \n",
    "# encode into base64\n",
    "encoders.encode_base64(p)\n",
    "   \n",
    "p.add_header('Content-Disposition', \"attachment; filename= %s\" % filename)\n",
    "  \n",
    "# attach the instance 'p' to instance 'msg'\n",
    "msg.attach(p)"
   ]
  },
  {
   "cell_type": "code",
   "execution_count": null,
   "id": "7b5197e1",
   "metadata": {},
   "outputs": [],
   "source": [
    "#attaching some dataframe on mail body so it must be consider on this\n",
    "\n",
    "html = \"\"\"    <html>\n",
    "      <head></head>\n",
    "      <body>\n",
    "        <p><b>Dear All,</b>\n",
    "         <br>\n",
    "         <br>\n",
    "         <br>\n",
    "        <b><c>Please find test file .\n",
    "Need to be check and update within 24-48 hrs.</c>\n",
    "        <br>\n",
    "        <br><u>AB wise detail</u>\n",
    "        {}\n",
    "        <br>\n",
    "         <br><u>CD wise detail</u>\n",
    "         {}\n",
    "         <br>\n",
    "         <br><u>Top report wise</u>\n",
    "          {}\n",
    "          ><br>\n",
    "          ><br>\n",
    "       <br>Regards,</b><br>\n",
    "       <br>Mohit\n",
    "        </p>\n",
    "      </body>\n",
    "    </html>\n",
    "\"\"\".format(df5.to_html(),df4.to_html(),df8.to_html())\n",
    "msg.attach(MIMEText(html,'html'))\n"
   ]
  },
  {
   "cell_type": "code",
   "execution_count": null,
   "id": "2362c100",
   "metadata": {},
   "outputs": [],
   "source": [
    "# creates SMTP session\n",
    "s = smtplib.SMTP('smtp.office365.com',587)\n",
    "  \n",
    "# start TLS for security\n",
    "s.starttls()\n",
    "  \n",
    "# Authentication\n",
    "s.login(\"Mohit.singh@outlook.in\", \"pass@12345\")\n",
    "  \n",
    "# Converts the Multipart msg into a string\n",
    "text = msg.as_string()\n",
    "  \n",
    "# sending the mail\n",
    "s.sendmail(\"Mohit.singh@outlook.in\", \"Mohit.singh@outlook.in\", text)\n",
    "\n",
    "\n",
    "  \n",
    "# terminating the session\n",
    "s.quit()"
   ]
  },
  {
   "cell_type": "code",
   "execution_count": null,
   "id": "8bfef1b3",
   "metadata": {},
   "outputs": [],
   "source": []
  },
  {
   "cell_type": "code",
   "execution_count": null,
   "id": "0f62ea43",
   "metadata": {},
   "outputs": [],
   "source": []
  },
  {
   "cell_type": "code",
   "execution_count": null,
   "id": "df937580",
   "metadata": {},
   "outputs": [],
   "source": []
  },
  {
   "cell_type": "code",
   "execution_count": null,
   "id": "c59282bd",
   "metadata": {},
   "outputs": [],
   "source": []
  }
 ],
 "metadata": {
  "kernelspec": {
   "display_name": "Python 3 (ipykernel)",
   "language": "python",
   "name": "python3"
  },
  "language_info": {
   "codemirror_mode": {
    "name": "ipython",
    "version": 3
   },
   "file_extension": ".py",
   "mimetype": "text/x-python",
   "name": "python",
   "nbconvert_exporter": "python",
   "pygments_lexer": "ipython3",
   "version": "3.10.9"
  },
  "varInspector": {
   "cols": {
    "lenName": 16,
    "lenType": 16,
    "lenVar": 40
   },
   "kernels_config": {
    "python": {
     "delete_cmd_postfix": "",
     "delete_cmd_prefix": "del ",
     "library": "var_list.py",
     "varRefreshCmd": "print(var_dic_list())"
    },
    "r": {
     "delete_cmd_postfix": ") ",
     "delete_cmd_prefix": "rm(",
     "library": "var_list.r",
     "varRefreshCmd": "cat(var_dic_list()) "
    }
   },
   "types_to_exclude": [
    "module",
    "function",
    "builtin_function_or_method",
    "instance",
    "_Feature"
   ],
   "window_display": false
  }
 },
 "nbformat": 4,
 "nbformat_minor": 5
}
