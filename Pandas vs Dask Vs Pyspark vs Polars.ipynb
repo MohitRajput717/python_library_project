{
 "cells": [
  {
   "cell_type": "code",
   "execution_count": 12,
   "id": "875ebd4f-e675-4ed4-ba9d-fc9d6b6a72b0",
   "metadata": {},
   "outputs": [
    {
     "name": "stdout",
     "output_type": "stream",
     "text": [
      "Pandas DataFrame Info:\n",
      "\n",
      "Pandas DataFrame Head:\n",
      "   Unnamed: 0  Shipper_Code Shipper_Name  dest_pincode Shipment_Status  \\\n",
      "0           0         15132       CILORY        110001       Delivered   \n",
      "1           1         15132       CILORY        110001        Returned   \n",
      "2           2         15132       CILORY        110002       Delivered   \n",
      "3           3         15132       CILORY        110002        Returned   \n",
      "4           4         15132       CILORY        110002    Un_Delivered   \n",
      "\n",
      "   2024-Jul  2024-Jun  2024-May  \n",
      "0       6.0       9.0      10.0  \n",
      "1       1.0       1.0       1.0  \n",
      "2       5.0       2.0       6.0  \n",
      "3       0.0       0.0       1.0  \n",
      "4       1.0       0.0       0.0  \n",
      "\n",
      "Time taken to read and explore data: 2.04 seconds\n"
     ]
    }
   ],
   "source": [
    "import pandas as pd\n",
    "\n",
    "# Start timer\n",
    "import time\n",
    "start_time = time.time()\n",
    "\n",
    "# Read CSV file into DataFrame\n",
    "df = pd.read_csv(r'C:\\Users\\45685\\Downloads\\Conversion_data_May_Jun_jul.csv')\n",
    "\n",
    "# Display basic information\n",
    "print(\"Pandas DataFrame Info:\")\n",
    "#print(df.info())\n",
    "print(\"\\nPandas DataFrame Head:\")\n",
    "print(df.head())\n",
    "\n",
    "# Measure time taken\n",
    "print(\"\\nTime taken to read and explore data: {:.2f} seconds\".format(time.time() - start_time))\n"
   ]
  },
  {
   "cell_type": "code",
   "execution_count": 13,
   "id": "719d6f49-80be-488b-a17f-dc30a3ca5828",
   "metadata": {},
   "outputs": [
    {
     "name": "stdout",
     "output_type": "stream",
     "text": [
      "Dask DataFrame Info:\n",
      "   Unnamed: 0  Shipper_Code Shipper_Name  dest_pincode Shipment_Status  \\\n",
      "0           0         15132       CILORY        110001       Delivered   \n",
      "1           1         15132       CILORY        110001        Returned   \n",
      "2           2         15132       CILORY        110002       Delivered   \n",
      "3           3         15132       CILORY        110002        Returned   \n",
      "4           4         15132       CILORY        110002    Un_Delivered   \n",
      "\n",
      "   2024-Jul  2024-Jun  2024-May  \n",
      "0       6.0       9.0      10.0  \n",
      "1       1.0       1.0       1.0  \n",
      "2       5.0       2.0       6.0  \n",
      "3       0.0       0.0       1.0  \n",
      "4       1.0       0.0       0.0  \n",
      "\n",
      "Time taken to read and explore data: 1.49 seconds\n"
     ]
    }
   ],
   "source": [
    "import dask.dataframe as dd\n",
    "import time\n",
    "\n",
    "# Start timer\n",
    "start_time = time.time()\n",
    "\n",
    "# Read CSV file into Dask DataFrame\n",
    "ddf = dd.read_csv(r'C:\\Users\\45685\\Downloads\\Conversion_data_May_Jun_jul.csv')\n",
    "\n",
    "# Display basic information\n",
    "print(\"Dask DataFrame Info:\")\n",
    "print(ddf.head())  # Use head() to get a sample of data\n",
    "\n",
    "# Measure time taken\n",
    "print(\"\\nTime taken to read and explore data: {:.2f} seconds\".format(time.time() - start_time))\n"
   ]
  },
  {
   "cell_type": "code",
   "execution_count": 11,
   "id": "0f812833-7737-4a24-b30e-5e47ac98a340",
   "metadata": {},
   "outputs": [
    {
     "name": "stdout",
     "output_type": "stream",
     "text": [
      "PySpark DataFrame Info:\n",
      "root\n",
      " |-- _c0: integer (nullable = true)\n",
      " |-- Shipper_Code: integer (nullable = true)\n",
      " |-- Shipper_Name: string (nullable = true)\n",
      " |-- dest_pincode: integer (nullable = true)\n",
      " |-- Shipment_Status: string (nullable = true)\n",
      " |-- 2024-Jul: double (nullable = true)\n",
      " |-- 2024-Jun: double (nullable = true)\n",
      " |-- 2024-May: double (nullable = true)\n",
      "\n",
      "\n",
      "PySpark DataFrame Head:\n",
      "+---+------------+------------+------------+---------------+--------+--------+--------+\n",
      "|_c0|Shipper_Code|Shipper_Name|dest_pincode|Shipment_Status|2024-Jul|2024-Jun|2024-May|\n",
      "+---+------------+------------+------------+---------------+--------+--------+--------+\n",
      "|  0|       15132|      CILORY|      110001|      Delivered|     6.0|     9.0|    10.0|\n",
      "|  1|       15132|      CILORY|      110001|       Returned|     1.0|     1.0|     1.0|\n",
      "|  2|       15132|      CILORY|      110002|      Delivered|     5.0|     2.0|     6.0|\n",
      "|  3|       15132|      CILORY|      110002|       Returned|     0.0|     0.0|     1.0|\n",
      "|  4|       15132|      CILORY|      110002|   Un_Delivered|     1.0|     0.0|     0.0|\n",
      "|  5|       15132|      CILORY|      110003|      Delivered|    11.0|     5.0|     9.0|\n",
      "|  6|       15132|      CILORY|      110003|       Returned|     1.0|     1.0|     0.0|\n",
      "|  7|       15132|      CILORY|      110003|   Un_Delivered|     1.0|     0.0|     0.0|\n",
      "|  8|       15132|      CILORY|      110004|      Delivered|     0.0|     1.0|     0.0|\n",
      "|  9|       15132|      CILORY|      110005|      Delivered|    17.0|    12.0|    14.0|\n",
      "| 10|       15132|      CILORY|      110005|       Returned|     1.0|     2.0|     0.0|\n",
      "| 11|       15132|      CILORY|      110006|      Delivered|    15.0|     5.0|     7.0|\n",
      "| 12|       15132|      CILORY|      110006|       Returned|     2.0|     0.0|     1.0|\n",
      "| 13|       15132|      CILORY|      110006|   Un_Delivered|     2.0|     0.0|     0.0|\n",
      "| 14|       15132|      CILORY|      110007|      Delivered|    17.0|    11.0|    21.0|\n",
      "| 15|       15132|      CILORY|      110008|      Delivered|    17.0|    14.0|    11.0|\n",
      "| 16|       15132|      CILORY|      110008|       Returned|     0.0|     1.0|     3.0|\n",
      "| 17|       15132|      CILORY|      110009|      Delivered|    59.0|    17.0|    30.0|\n",
      "| 18|       15132|      CILORY|      110009|       Returned|     1.0|     1.0|     0.0|\n",
      "| 19|       15132|      CILORY|      110010|      Delivered|    16.0|     4.0|    12.0|\n",
      "+---+------------+------------+------------+---------------+--------+--------+--------+\n",
      "only showing top 20 rows\n",
      "\n",
      "\n",
      "Time taken to read and explore data: 1.43 seconds\n"
     ]
    }
   ],
   "source": [
    "from pyspark.sql import SparkSession\n",
    "import time\n",
    "\n",
    "# Initialize Spark session\n",
    "spark = SparkSession.builder \\\n",
    "    .appName(\"PySparkExample\") \\\n",
    "    .getOrCreate()\n",
    "\n",
    "# Start timer\n",
    "start_time = time.time()\n",
    "\n",
    "# Read CSV file into Spark DataFrame\n",
    "df = spark.read.csv(r'C:\\Users\\45685\\Downloads\\Conversion_data_May_Jun_jul.csv', header=True, inferSchema=True)\n",
    "\n",
    "# Display basic information\n",
    "print(\"PySpark DataFrame Info:\")\n",
    "df.printSchema()\n",
    "print(\"\\nPySpark DataFrame Head:\")\n",
    "df.show()  # Show first 5 rows\n",
    "\n",
    "# Measure time taken\n",
    "print(\"\\nTime taken to read and explore data: {:.2f} seconds\".format(time.time() - start_time))\n"
   ]
  },
  {
   "cell_type": "code",
   "execution_count": 18,
   "id": "71590bb9-076f-45b2-a400-049501aeef37",
   "metadata": {},
   "outputs": [
    {
     "name": "stdout",
     "output_type": "stream",
     "text": [
      "Polars DataFrame Info:\n",
      "Schema({'': Int64, 'Shipper_Code': Int64, 'Shipper_Name': String, 'dest_pincode': Int64, 'Shipment_Status': String, '2024-Jul': Float64, '2024-Jun': Float64, '2024-May': Float64})\n",
      "\n",
      "Polars DataFrame Head:\n",
      "shape: (5, 8)\n",
      "┌─────┬──────────────┬──────────────┬──────────────┬─────────────────┬──────────┬──────────┬──────────┐\n",
      "│     ┆ Shipper_Code ┆ Shipper_Name ┆ dest_pincode ┆ Shipment_Status ┆ 2024-Jul ┆ 2024-Jun ┆ 2024-May │\n",
      "│ --- ┆ ---          ┆ ---          ┆ ---          ┆ ---             ┆ ---      ┆ ---      ┆ ---      │\n",
      "│ i64 ┆ i64          ┆ str          ┆ i64          ┆ str             ┆ f64      ┆ f64      ┆ f64      │\n",
      "╞═════╪══════════════╪══════════════╪══════════════╪═════════════════╪══════════╪══════════╪══════════╡\n",
      "│ 0   ┆ 15132        ┆ CILORY       ┆ 110001       ┆ Delivered       ┆ 6.0      ┆ 9.0      ┆ 10.0     │\n",
      "│ 1   ┆ 15132        ┆ CILORY       ┆ 110001       ┆ Returned        ┆ 1.0      ┆ 1.0      ┆ 1.0      │\n",
      "│ 2   ┆ 15132        ┆ CILORY       ┆ 110002       ┆ Delivered       ┆ 5.0      ┆ 2.0      ┆ 6.0      │\n",
      "│ 3   ┆ 15132        ┆ CILORY       ┆ 110002       ┆ Returned        ┆ 0.0      ┆ 0.0      ┆ 1.0      │\n",
      "│ 4   ┆ 15132        ┆ CILORY       ┆ 110002       ┆ Un_Delivered    ┆ 1.0      ┆ 0.0      ┆ 0.0      │\n",
      "└─────┴──────────────┴──────────────┴──────────────┴─────────────────┴──────────┴──────────┴──────────┘\n",
      "\n",
      "Time taken to read and explore data: 0.19 seconds\n"
     ]
    }
   ],
   "source": [
    "import polars as pl\n",
    "import time\n",
    "\n",
    "# Start timer\n",
    "start_time = time.time()\n",
    "\n",
    "# Read CSV file into Polars DataFrame\n",
    "df = pl.read_csv(r'C:\\Users\\45685\\Downloads\\Conversion_data_May_Jun_jul.csv')\n",
    "\n",
    "# Display basic information\n",
    "print(\"Polars DataFrame Info:\")\n",
    "print(df.schema)\n",
    "print(\"\\nPolars DataFrame Head:\")\n",
    "print(df.head())\n",
    "\n",
    "# Measure time taken\n",
    "print(\"\\nTime taken to read and explore data: {:.2f} seconds\".format(time.time() - start_time))\n"
   ]
  },
  {
   "cell_type": "code",
   "execution_count": 22,
   "id": "66c1610b-23ff-4bae-b0ad-5dab55b62928",
   "metadata": {},
   "outputs": [
    {
     "name": "stdout",
     "output_type": "stream",
     "text": [
      "2921907\n",
      "8\n"
     ]
    }
   ],
   "source": [
    "print(df.height)\n",
    "print(df.width)"
   ]
  },
  {
   "cell_type": "code",
   "execution_count": 23,
   "id": "cf418fb6-8a57-4de2-ad18-90aac56a2d84",
   "metadata": {},
   "outputs": [
    {
     "data": {
      "text/plain": [
       "['',\n",
       " 'Shipper_Code',\n",
       " 'Shipper_Name',\n",
       " 'dest_pincode',\n",
       " 'Shipment_Status',\n",
       " '2024-Jul',\n",
       " '2024-Jun',\n",
       " '2024-May']"
      ]
     },
     "execution_count": 23,
     "metadata": {},
     "output_type": "execute_result"
    }
   ],
   "source": [
    "df.columns"
   ]
  },
  {
   "cell_type": "code",
   "execution_count": 31,
   "id": "92cb67ee-98c4-40c2-a598-4756cbde317c",
   "metadata": {},
   "outputs": [],
   "source": [
    "pivot_table = df.group_by(['Shipper_Code', 'dest_pincode','Shipment_Status']).agg([\n",
    "    pl.col('2024-Jul','2024-Jun','2024-May').count()\n",
    "])\n"
   ]
  },
  {
   "cell_type": "code",
   "execution_count": 32,
   "id": "61a59b54-8f48-47f6-9a70-f3c1de2efc0d",
   "metadata": {},
   "outputs": [
    {
     "data": {
      "text/html": [
       "<div><style>\n",
       ".dataframe > thead > tr,\n",
       ".dataframe > tbody > tr {\n",
       "  text-align: right;\n",
       "  white-space: pre-wrap;\n",
       "}\n",
       "</style>\n",
       "<small>shape: (2_921_907, 6)</small><table border=\"1\" class=\"dataframe\"><thead><tr><th>Shipper_Code</th><th>dest_pincode</th><th>Shipment_Status</th><th>2024-Jul</th><th>2024-Jun</th><th>2024-May</th></tr><tr><td>i64</td><td>i64</td><td>str</td><td>u32</td><td>u32</td><td>u32</td></tr></thead><tbody><tr><td>311281</td><td>736181</td><td>&quot;Returned&quot;</td><td>1</td><td>1</td><td>1</td></tr><tr><td>130073</td><td>522410</td><td>&quot;Returned&quot;</td><td>1</td><td>1</td><td>1</td></tr><tr><td>73963</td><td>143531</td><td>&quot;Delivered&quot;</td><td>1</td><td>1</td><td>1</td></tr><tr><td>282035</td><td>802101</td><td>&quot;Delivered&quot;</td><td>1</td><td>1</td><td>1</td></tr><tr><td>981383</td><td>784173</td><td>&quot;Delivered&quot;</td><td>1</td><td>1</td><td>1</td></tr><tr><td>&hellip;</td><td>&hellip;</td><td>&hellip;</td><td>&hellip;</td><td>&hellip;</td><td>&hellip;</td></tr><tr><td>930762</td><td>410216</td><td>&quot;Delivered&quot;</td><td>1</td><td>1</td><td>1</td></tr><tr><td>634394</td><td>457339</td><td>&quot;Delivered&quot;</td><td>1</td><td>1</td><td>1</td></tr><tr><td>732283</td><td>600117</td><td>&quot;Delivered&quot;</td><td>1</td><td>1</td><td>1</td></tr><tr><td>705150</td><td>413306</td><td>&quot;Returned&quot;</td><td>1</td><td>1</td><td>1</td></tr><tr><td>459590</td><td>591304</td><td>&quot;Delivered&quot;</td><td>1</td><td>1</td><td>1</td></tr></tbody></table></div>"
      ],
      "text/plain": [
       "shape: (2_921_907, 6)\n",
       "┌──────────────┬──────────────┬─────────────────┬──────────┬──────────┬──────────┐\n",
       "│ Shipper_Code ┆ dest_pincode ┆ Shipment_Status ┆ 2024-Jul ┆ 2024-Jun ┆ 2024-May │\n",
       "│ ---          ┆ ---          ┆ ---             ┆ ---      ┆ ---      ┆ ---      │\n",
       "│ i64          ┆ i64          ┆ str             ┆ u32      ┆ u32      ┆ u32      │\n",
       "╞══════════════╪══════════════╪═════════════════╪══════════╪══════════╪══════════╡\n",
       "│ 311281       ┆ 736181       ┆ Returned        ┆ 1        ┆ 1        ┆ 1        │\n",
       "│ 130073       ┆ 522410       ┆ Returned        ┆ 1        ┆ 1        ┆ 1        │\n",
       "│ 73963        ┆ 143531       ┆ Delivered       ┆ 1        ┆ 1        ┆ 1        │\n",
       "│ 282035       ┆ 802101       ┆ Delivered       ┆ 1        ┆ 1        ┆ 1        │\n",
       "│ 981383       ┆ 784173       ┆ Delivered       ┆ 1        ┆ 1        ┆ 1        │\n",
       "│ …            ┆ …            ┆ …               ┆ …        ┆ …        ┆ …        │\n",
       "│ 930762       ┆ 410216       ┆ Delivered       ┆ 1        ┆ 1        ┆ 1        │\n",
       "│ 634394       ┆ 457339       ┆ Delivered       ┆ 1        ┆ 1        ┆ 1        │\n",
       "│ 732283       ┆ 600117       ┆ Delivered       ┆ 1        ┆ 1        ┆ 1        │\n",
       "│ 705150       ┆ 413306       ┆ Returned        ┆ 1        ┆ 1        ┆ 1        │\n",
       "│ 459590       ┆ 591304       ┆ Delivered       ┆ 1        ┆ 1        ┆ 1        │\n",
       "└──────────────┴──────────────┴─────────────────┴──────────┴──────────┴──────────┘"
      ]
     },
     "execution_count": 32,
     "metadata": {},
     "output_type": "execute_result"
    }
   ],
   "source": [
    "pivot_table"
   ]
  },
  {
   "cell_type": "code",
   "execution_count": 35,
   "id": "48f18caf-c633-427a-9677-751f8bbb4b7c",
   "metadata": {},
   "outputs": [],
   "source": [
    "df1 =df.filter(pl.col('Shipment_Status') == 'Delivered')"
   ]
  },
  {
   "cell_type": "code",
   "execution_count": 36,
   "id": "502a1bfe-7fc8-46bf-b6be-a58986f74391",
   "metadata": {},
   "outputs": [
    {
     "data": {
      "text/plain": [
       "1627251"
      ]
     },
     "execution_count": 36,
     "metadata": {},
     "output_type": "execute_result"
    }
   ],
   "source": [
    "df1.height"
   ]
  },
  {
   "cell_type": "code",
   "execution_count": null,
   "id": "4ee4a3bc-1ba9-4e4b-bcf4-331f2fa61208",
   "metadata": {},
   "outputs": [],
   "source": []
  }
 ],
 "metadata": {
  "kernelspec": {
   "display_name": "Python 3 (ipykernel)",
   "language": "python",
   "name": "python3"
  },
  "language_info": {
   "codemirror_mode": {
    "name": "ipython",
    "version": 3
   },
   "file_extension": ".py",
   "mimetype": "text/x-python",
   "name": "python",
   "nbconvert_exporter": "python",
   "pygments_lexer": "ipython3",
   "version": "3.12.4"
  }
 },
 "nbformat": 4,
 "nbformat_minor": 5
}
