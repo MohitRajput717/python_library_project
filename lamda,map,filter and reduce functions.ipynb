{
 "cells": [
  {
   "cell_type": "code",
   "execution_count": 11,
   "id": "3cc4881d",
   "metadata": {},
   "outputs": [],
   "source": [
    "#normal operations, Map function\n",
    "\n",
    "l= [2,3,4,5,6,7,8,9]"
   ]
  },
  {
   "cell_type": "code",
   "execution_count": 13,
   "id": "1bbccb5a",
   "metadata": {},
   "outputs": [],
   "source": [
    "l1 = []\n",
    "for i in l:\n",
    "    l1.append(i+7)"
   ]
  },
  {
   "cell_type": "code",
   "execution_count": 14,
   "id": "79b54e13",
   "metadata": {},
   "outputs": [
    {
     "data": {
      "text/plain": [
       "[9, 10, 11, 12, 13, 14, 15, 16]"
      ]
     },
     "execution_count": 14,
     "metadata": {},
     "output_type": "execute_result"
    }
   ],
   "source": [
    "l1"
   ]
  },
  {
   "cell_type": "code",
   "execution_count": 15,
   "id": "8c1c2dfc",
   "metadata": {},
   "outputs": [
    {
     "data": {
      "text/plain": [
       "[9, 10, 11, 12, 13, 14, 15, 16]"
      ]
     },
     "execution_count": 15,
     "metadata": {},
     "output_type": "execute_result"
    }
   ],
   "source": [
    "#comprihension operation\n",
    "[i+7 for i in l]"
   ]
  },
  {
   "cell_type": "code",
   "execution_count": 16,
   "id": "4a50f712",
   "metadata": {},
   "outputs": [],
   "source": [
    "#### map function\n",
    "def test(a):\n",
    "    return a+7\n",
    "\n"
   ]
  },
  {
   "cell_type": "code",
   "execution_count": 18,
   "id": "1251a8e5",
   "metadata": {},
   "outputs": [
    {
     "data": {
      "text/plain": [
       "[9, 10, 11, 12, 13, 14, 15, 16]"
      ]
     },
     "execution_count": 18,
     "metadata": {},
     "output_type": "execute_result"
    }
   ],
   "source": [
    "list(map(test,l))"
   ]
  },
  {
   "cell_type": "code",
   "execution_count": 19,
   "id": "ac7ec421",
   "metadata": {},
   "outputs": [],
   "source": [
    "def test1(a):\n",
    "    return a*2*4"
   ]
  },
  {
   "cell_type": "code",
   "execution_count": 20,
   "id": "8b6877b3",
   "metadata": {},
   "outputs": [
    {
     "data": {
      "text/plain": [
       "[16, 24, 32, 40, 48, 56, 64, 72]"
      ]
     },
     "execution_count": 20,
     "metadata": {},
     "output_type": "execute_result"
    }
   ],
   "source": [
    "list(map(test1,l))"
   ]
  },
  {
   "cell_type": "code",
   "execution_count": 21,
   "id": "dad31ee1",
   "metadata": {},
   "outputs": [],
   "source": [
    "l1 = ['234','345','543','5435','543','5435']"
   ]
  },
  {
   "cell_type": "code",
   "execution_count": 22,
   "id": "188362c1",
   "metadata": {},
   "outputs": [],
   "source": [
    "def test2(a):\n",
    "    return int(a)"
   ]
  },
  {
   "cell_type": "code",
   "execution_count": 24,
   "id": "19745ed9",
   "metadata": {},
   "outputs": [
    {
     "data": {
      "text/plain": [
       "234"
      ]
     },
     "execution_count": 24,
     "metadata": {},
     "output_type": "execute_result"
    }
   ],
   "source": [
    "test2('234')"
   ]
  },
  {
   "cell_type": "code",
   "execution_count": 25,
   "id": "273ae602",
   "metadata": {},
   "outputs": [
    {
     "data": {
      "text/plain": [
       "[234, 345, 543, 5435, 543, 5435]"
      ]
     },
     "execution_count": 25,
     "metadata": {},
     "output_type": "execute_result"
    }
   ],
   "source": [
    "list(map(test2,l1))"
   ]
  },
  {
   "cell_type": "code",
   "execution_count": 26,
   "id": "08b6eb69",
   "metadata": {},
   "outputs": [
    {
     "data": {
      "text/plain": [
       "[234, 345, 543, 5435, 543, 5435]"
      ]
     },
     "execution_count": 26,
     "metadata": {},
     "output_type": "execute_result"
    }
   ],
   "source": [
    "list(map(lambda x :int(x) , l1))"
   ]
  },
  {
   "cell_type": "code",
   "execution_count": null,
   "id": "0f13af68",
   "metadata": {},
   "outputs": [],
   "source": [
    "###filter function"
   ]
  },
  {
   "cell_type": "code",
   "execution_count": 27,
   "id": "b30e0ff6",
   "metadata": {},
   "outputs": [],
   "source": [
    "l = [4,5,6,7,78,8,78]"
   ]
  },
  {
   "cell_type": "code",
   "execution_count": 28,
   "id": "79b6e054",
   "metadata": {},
   "outputs": [],
   "source": [
    "def test4(a):\n",
    "    if a%2 ==0:\n",
    "        return a"
   ]
  },
  {
   "cell_type": "code",
   "execution_count": 29,
   "id": "4649a310",
   "metadata": {},
   "outputs": [
    {
     "data": {
      "text/plain": [
       "[4, 6, 78, 8, 78]"
      ]
     },
     "execution_count": 29,
     "metadata": {},
     "output_type": "execute_result"
    }
   ],
   "source": [
    "[i for i in l if i%2 == 0 ]"
   ]
  },
  {
   "cell_type": "code",
   "execution_count": 31,
   "id": "0ae7fcb6",
   "metadata": {},
   "outputs": [
    {
     "data": {
      "text/plain": [
       "[4, 6, 78, 8, 78]"
      ]
     },
     "execution_count": 31,
     "metadata": {},
     "output_type": "execute_result"
    }
   ],
   "source": [
    "list(filter(test4,l))"
   ]
  },
  {
   "cell_type": "code",
   "execution_count": null,
   "id": "66ef33eb",
   "metadata": {},
   "outputs": [],
   "source": [
    "### reduce function"
   ]
  },
  {
   "cell_type": "code",
   "execution_count": 32,
   "id": "fcc10f69",
   "metadata": {},
   "outputs": [],
   "source": [
    "from functools import reduce"
   ]
  },
  {
   "cell_type": "code",
   "execution_count": 33,
   "id": "ff9304a5",
   "metadata": {},
   "outputs": [],
   "source": [
    "l = [3,4,5,6,7,3,8]"
   ]
  },
  {
   "cell_type": "code",
   "execution_count": 34,
   "id": "1f819517",
   "metadata": {},
   "outputs": [
    {
     "data": {
      "text/plain": [
       "36"
      ]
     },
     "execution_count": 34,
     "metadata": {},
     "output_type": "execute_result"
    }
   ],
   "source": [
    "sum(l)"
   ]
  },
  {
   "cell_type": "code",
   "execution_count": 35,
   "id": "cf89554c",
   "metadata": {},
   "outputs": [],
   "source": [
    "def test5(a,b):\n",
    "    return a+b"
   ]
  },
  {
   "cell_type": "code",
   "execution_count": 36,
   "id": "b7770471",
   "metadata": {},
   "outputs": [
    {
     "data": {
      "text/plain": [
       "36"
      ]
     },
     "execution_count": 36,
     "metadata": {},
     "output_type": "execute_result"
    }
   ],
   "source": [
    "reduce(test5 , l)"
   ]
  },
  {
   "cell_type": "code",
   "execution_count": 37,
   "id": "04f13ef3",
   "metadata": {},
   "outputs": [],
   "source": [
    "###zip"
   ]
  },
  {
   "cell_type": "code",
   "execution_count": 38,
   "id": "31c545a3",
   "metadata": {},
   "outputs": [],
   "source": [
    "l = [1,2,3,4]\n",
    "l1 = [4,5,6,7,7]\n",
    "l2 = [\"rohan\" , \"kumar\" , \"sohan\" , \"dinesh\" , \"ramesh\"]"
   ]
  },
  {
   "cell_type": "code",
   "execution_count": 39,
   "id": "9dc99ab4",
   "metadata": {},
   "outputs": [
    {
     "data": {
      "text/plain": [
       "[(1, 4, 'rohan'), (2, 5, 'kumar'), (3, 6, 'sohan'), (4, 7, 'dinesh')]"
      ]
     },
     "execution_count": 39,
     "metadata": {},
     "output_type": "execute_result"
    }
   ],
   "source": [
    "list(zip(l,l1,l2))"
   ]
  },
  {
   "cell_type": "code",
   "execution_count": null,
   "id": "bb51df3c",
   "metadata": {},
   "outputs": [],
   "source": []
  }
 ],
 "metadata": {
  "kernelspec": {
   "display_name": "Python 3 (ipykernel)",
   "language": "python",
   "name": "python3"
  },
  "language_info": {
   "codemirror_mode": {
    "name": "ipython",
    "version": 3
   },
   "file_extension": ".py",
   "mimetype": "text/x-python",
   "name": "python",
   "nbconvert_exporter": "python",
   "pygments_lexer": "ipython3",
   "version": "3.10.9"
  },
  "varInspector": {
   "cols": {
    "lenName": 16,
    "lenType": 16,
    "lenVar": 40
   },
   "kernels_config": {
    "python": {
     "delete_cmd_postfix": "",
     "delete_cmd_prefix": "del ",
     "library": "var_list.py",
     "varRefreshCmd": "print(var_dic_list())"
    },
    "r": {
     "delete_cmd_postfix": ") ",
     "delete_cmd_prefix": "rm(",
     "library": "var_list.r",
     "varRefreshCmd": "cat(var_dic_list()) "
    }
   },
   "types_to_exclude": [
    "module",
    "function",
    "builtin_function_or_method",
    "instance",
    "_Feature"
   ],
   "window_display": false
  }
 },
 "nbformat": 4,
 "nbformat_minor": 5
}
